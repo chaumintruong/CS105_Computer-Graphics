{
 "cells": [
  {
   "cell_type": "markdown",
   "metadata": {},
   "source": [
    "# Lib"
   ]
  },
  {
   "cell_type": "code",
   "execution_count": 1,
   "metadata": {},
   "outputs": [],
   "source": [
    "import time\n",
    "import cv2 as cv\n",
    "import numpy as np\n",
    "from numpy.lib.type_check import imag"
   ]
  },
  {
   "cell_type": "markdown",
   "metadata": {},
   "source": [
    "# Features face detection"
   ]
  },
  {
   "cell_type": "code",
   "execution_count": 2,
   "metadata": {},
   "outputs": [],
   "source": [
    "face_cascade = 'haarcascade_frontalface_default.xml'\n",
    "eye_cascade = 'haarcascade_eye.xml'\n",
    "nose_cascade = 'haarcascade_mcs_nose.xml'\n",
    "mouth_cascade = 'haarcascade_mcs_mouth.xml'"
   ]
  },
  {
   "cell_type": "code",
   "execution_count": 3,
   "metadata": {},
   "outputs": [],
   "source": [
    "face_clf = cv.CascadeClassifier(face_cascade)\n",
    "eye_clf = cv.CascadeClassifier(eye_cascade)\n",
    "nose_clf = cv.CascadeClassifier(nose_cascade)\n",
    "mouth_clf = cv.CascadeClassifier(mouth_cascade)"
   ]
  },
  {
   "cell_type": "code",
   "execution_count": 4,
   "metadata": {},
   "outputs": [],
   "source": [
    "img = cv.imread('face.JPG', cv.IMREAD_UNCHANGED)\n",
    "gray = cv.cvtColor(img, cv.COLOR_BGR2GRAY)"
   ]
  },
  {
   "cell_type": "code",
   "execution_count": 5,
   "metadata": {},
   "outputs": [
    {
     "name": "stderr",
     "output_type": "stream",
     "text": [
      "<>:3: SyntaxWarning: \"is\" with a literal. Did you mean \"==\"?\n",
      "<>:3: SyntaxWarning: \"is\" with a literal. Did you mean \"==\"?\n",
      "<ipython-input-5-cf9dc4e25620>:3: SyntaxWarning: \"is\" with a literal. Did you mean \"==\"?\n",
      "  if faces is ():\n"
     ]
    }
   ],
   "source": [
    "faces = face_clf.detectMultiScale(gray, 1.05, 6)\n",
    "\n",
    "if faces is ():\n",
    "    print(\"No face found\")\n",
    "\n",
    "for (x, y, w, h) in faces:\n",
    "    cv.rectangle(img, (x, y), (x+w, y+h), (127,0,255), 2)\n",
    "    cv.imshow('img', img)\n",
    "    cv.waitKey(0)\n",
    "\n",
    "    roi_gray = gray[y:y+h, x:x+w]\n",
    "    roi_color = img[y:y+h, x:x+w]\n",
    "\n",
    "    eyes = eye_clf.detectMultiScale(roi_gray, 1.3, 6)\n",
    "\n",
    "    for (ex, ey, ew, eh) in eyes:\n",
    "        cv.rectangle(roi_color, (ex, ey), (ex+ew, ey+eh), (255,255,0), 2)\n",
    "        cv.imshow('img', img)\n",
    "        cv.waitKey(0)\n",
    "\n",
    "    noses = nose_clf.detectMultiScale(roi_gray, 1.3, 6)\n",
    "\n",
    "    for (nx, ny, nw, nh) in noses:\n",
    "        cv.rectangle(roi_color, (nx, ny), (nx+nw, ny+nh), (0, 255, 255), 2)\n",
    "        cv.imshow('img', img)\n",
    "        cv.waitKey(0)\n",
    "\n",
    "    mouths = mouth_clf.detectMultiScale(roi_gray, 1.44, 6)\n",
    "\n",
    "    for (mx, my, mw, mh) in mouths:\n",
    "        cv.rectangle(roi_color, (mx, my), (mx+mw, my+mh), (0, 0, 0), 2)\n",
    "        cv.imshow('img', img)\n",
    "        cv.waitKey(0)\n",
    "    \n",
    "cv.destroyAllWindows()"
   ]
  },
  {
   "cell_type": "markdown",
   "metadata": {},
   "source": [
    "# Full body detection"
   ]
  },
  {
   "cell_type": "code",
   "execution_count": 6,
   "metadata": {},
   "outputs": [],
   "source": [
    "full_body = 'haarcascade_fullbody.xml'"
   ]
  },
  {
   "cell_type": "code",
   "execution_count": null,
   "metadata": {},
   "outputs": [],
   "source": [
    "body_clf = cv.CascadeClassifier(full_body)\n",
    "\n",
    "cap = cv.VideoCapture('pedestrian.mp4')\n",
    "while cap.isOpened():\n",
    "    ret, frame = cap.read()\n",
    "    gray = cv.cvtColor(frame, cv.COLOR_BGR2GRAY)\n",
    "    bodies = body_clf.detectMultiScale(gray, 1.05, 3)\n",
    "    for (x, y, w, h) in bodies:\n",
    "        cv.rectangle(frame, (x, y), (x+w, y+h), (0, 255, 255), 2)\n",
    "        cv.imshow('Pedestrian', frame)\n",
    "    if cv.waitKey(1) == 13:\n",
    "        break\n",
    "        \n",
    "cap.release()\n",
    "cv.destroyAllWindows()"
   ]
  },
  {
   "cell_type": "markdown",
   "metadata": {},
   "source": [
    "# Upper and lower body detection"
   ]
  },
  {
   "cell_type": "code",
   "execution_count": 9,
   "metadata": {},
   "outputs": [],
   "source": [
    "upper_body = 'haarcascade_upperbody.xml'\n",
    "lower_body = 'haarcascade_lowerbody.xml'"
   ]
  },
  {
   "cell_type": "code",
   "execution_count": null,
   "metadata": {},
   "outputs": [],
   "source": [
    "upper_clf = cv.CascadeClassifier(upper_body)\n",
    "\n",
    "cap = cv.VideoCapture('pedestrian.mp4')\n",
    "while cap.isOpened():\n",
    "    ret, frame = cap.read()\n",
    "    gray = cv.cvtColor(frame, cv.COLOR_BGR2GRAY)\n",
    "    uppers = upper_clf.detectMultiScale(gray, 1.05, 3)\n",
    "    for (x, y, w, h) in uppers:\n",
    "        cv.rectangle(frame, (x, y), (x+w, y+h), (0, 255, 255), 2)\n",
    "        cv.imshow('Pedestrian', frame)\n",
    "    if cv.waitKey(1) == 13:\n",
    "        break\n",
    "        \n",
    "cap.release()\n",
    "cv.destroyAllWindows()"
   ]
  },
  {
   "cell_type": "code",
   "execution_count": null,
   "metadata": {},
   "outputs": [],
   "source": [
    "lower_clf = cv.CascadeClassifier(lower_body)\n",
    "\n",
    "cap = cv.VideoCapture('pedestrian.mp4')\n",
    "while cap.isOpened():\n",
    "    ret, frame = cap.read()\n",
    "    gray = cv.cvtColor(frame, cv.COLOR_BGR2GRAY)\n",
    "    lowers = lower_clf.detectMultiScale(gray, 1.1\n",
    "    , 3)\n",
    "    for (x, y, w, h) in lowers:\n",
    "        cv.rectangle(frame, (x, y), (x+w, y+h), (0, 255, 255), 2)\n",
    "        cv.imshow('Pedestrian', frame)\n",
    "    if cv.waitKey(1) == 13:\n",
    "        break\n",
    "\n",
    "cap.release()\n",
    "cv.destroyAllWindows()"
   ]
  },
  {
   "cell_type": "markdown",
   "metadata": {},
   "source": [
    "# Car detection"
   ]
  },
  {
   "cell_type": "code",
   "execution_count": null,
   "metadata": {},
   "outputs": [],
   "source": [
    "car_cascade = 'lbpcascade_cars_frontbackview.xml'"
   ]
  },
  {
   "cell_type": "code",
   "execution_count": null,
   "metadata": {},
   "outputs": [],
   "source": [
    "car_clf = cv.CascadeClassifier(car_cascade)\n",
    "\n",
    "cap = cv.VideoCapture('car.mp4')\n",
    "while cap.isOpened:\n",
    "    time.sleep(.05)\n",
    "\n",
    "    ret, frame = cap.read()\n",
    "    gray = cv.cvtColor(frame, cv.COLOR_BGR2GRAY)\n",
    "\n",
    "    cars = car_clf.detectMultiScale(gray, 1.3, 2)\n",
    "    for (x, y, w, h) in cars:\n",
    "        cv.rectangle(frame, (x, y), (x+w, y+h), (0, 255, 255), 2)\n",
    "        cv.imshow('Cars', frame)\n",
    "    if cv.waitKey(1) == 13:\n",
    "        break\n",
    "\n",
    "cap.release()\n",
    "cv.destroyAllWindows()"
   ]
  }
 ],
 "metadata": {
  "interpreter": {
   "hash": "eea7e78ea1393ecc6f8341d2e72ea16df6697fc7cdcbf55aef647332e5c3cd59"
  },
  "kernelspec": {
   "display_name": "Python 3.8.8 64-bit ('base': conda)",
   "language": "python",
   "name": "python3"
  },
  "language_info": {
   "codemirror_mode": {
    "name": "ipython",
    "version": 3
   },
   "file_extension": ".py",
   "mimetype": "text/x-python",
   "name": "python",
   "nbconvert_exporter": "python",
   "pygments_lexer": "ipython3",
   "version": "3.8.8"
  },
  "orig_nbformat": 4
 },
 "nbformat": 4,
 "nbformat_minor": 2
}
